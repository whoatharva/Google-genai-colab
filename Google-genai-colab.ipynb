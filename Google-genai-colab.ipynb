{
  "nbformat": 4,
  "nbformat_minor": 0,
  "metadata": {
    "colab": {
      "provenance": [],
      "authorship_tag": "ABX9TyObDncsA67UY+/3wL3Re4BY",
      "include_colab_link": true
    },
    "kernelspec": {
      "name": "python3",
      "display_name": "Python 3"
    },
    "language_info": {
      "name": "python"
    }
  },
  "cells": [
    {
      "cell_type": "markdown",
      "metadata": {
        "id": "view-in-github",
        "colab_type": "text"
      },
      "source": [
        "<a href=\"https://colab.research.google.com/github/whoatharva/Google-genai-colab/blob/main/Google-genai-colab.ipynb\" target=\"_parent\"><img src=\"https://colab.research.google.com/assets/colab-badge.svg\" alt=\"Open In Colab\"/></a>"
      ]
    },
    {
      "cell_type": "code",
      "execution_count": 62,
      "metadata": {
        "id": "hdvtGLwqcmea"
      },
      "outputs": [],
      "source": [
        "!pip install -q --upgrade google-generativeai langchain-google-genai chromadb pypdf"
      ]
    },
    {
      "cell_type": "code",
      "source": [
        "from IPython.display import display\n",
        "from IPython.display import Markdown\n",
        "import textwrap\n",
        "\n",
        "def to_markdown(text):\n",
        "  text = text.replace('•', '  *')\n",
        "  return Markdown(textwrap.indent(text, '> ', predicate=lambda _: True))"
      ],
      "metadata": {
        "id": "nJc_SnxLc-8O"
      },
      "execution_count": 63,
      "outputs": []
    },
    {
      "cell_type": "code",
      "source": [
        "import google.generativeai as genai\n",
        "from google.colab import userdata"
      ],
      "metadata": {
        "id": "O34OKFqyduRi"
      },
      "execution_count": 64,
      "outputs": []
    },
    {
      "cell_type": "code",
      "source": [
        "import os\n",
        "GOOGLE_API_KEY=userdata.get('GOOGLE_API_KEY')\n",
        "genai.configure(api_key=GOOGLE_API_KEY)"
      ],
      "metadata": {
        "id": "pkLUccR_d7sX"
      },
      "execution_count": 65,
      "outputs": []
    },
    {
      "cell_type": "code",
      "source": [
        "model = genai.GenerativeModel(model_name = \"gemini-pro\")\n",
        "model"
      ],
      "metadata": {
        "colab": {
          "base_uri": "https://localhost:8080/"
        },
        "id": "xrYiI16Od_BG",
        "outputId": "a74d9118-bbed-4f58-eedc-bae3c8cff70c"
      },
      "execution_count": 66,
      "outputs": [
        {
          "output_type": "execute_result",
          "data": {
            "text/plain": [
              "genai.GenerativeModel(\n",
              "    model_name='models/gemini-pro',\n",
              "    generation_config={},\n",
              "    safety_settings={},\n",
              "    tools=None,\n",
              "    system_instruction=None,\n",
              "    cached_content=None\n",
              ")"
            ]
          },
          "metadata": {},
          "execution_count": 66
        }
      ]
    },
    {
      "cell_type": "code",
      "source": [
        "response = model.generate_content(\"What are the usecases of LLMs?\")"
      ],
      "metadata": {
        "id": "2holBJ82eXy0"
      },
      "execution_count": 67,
      "outputs": []
    },
    {
      "cell_type": "code",
      "source": [
        "to_markdown(response.text)"
      ],
      "metadata": {
        "colab": {
          "base_uri": "https://localhost:8080/",
          "height": 620
        },
        "id": "eDqFBeYZebXS",
        "outputId": "69635dfc-6a71-4fd3-d66b-f0045e395c39"
      },
      "execution_count": 68,
      "outputs": [
        {
          "output_type": "execute_result",
          "data": {
            "text/plain": [
              "<IPython.core.display.Markdown object>"
            ],
            "text/markdown": "> **Content Generation:**\n> * **Text Summarization:** Condensing lengthy documents and providing concise overviews.\n> * **Content Writing:** Creating high-quality blog posts, articles, website copy, and other written content.\n> * **Scriptwriting:** Writing scripts for movies, TV shows, and video games.\n> * **Poetry and Fiction Generation:** Creating unique and engaging poems, short stories, and novels.\n> * **Code Generation:** Generating code in various programming languages, assisting in software development.\n> \n> **Language Processing:**\n> * **Machine Translation:** Translating text from one language to another, improving communication and accessibility.\n> * **Sentiment Analysis:** Identifying the emotional tone and sentiment expressed in text.\n> * **Question Answering:** Providing accurate answers to complex questions based on a large knowledge base.\n> * **Plagiarism Detection:** Identifying instances of potential plagiarism by comparing text to a vast database.\n> * **Text Classification:** Categorizing text into predefined classes or labels, aiding in document organization and analysis.\n> \n> **Chatbots and Assistants:**\n> * **Customer Service:** Providing automated responses to customer inquiries, resolving issues quickly and efficiently.\n> * **Virtual Assistants:** Automating tasks such as scheduling appointments, setting reminders, and sending emails.\n> * **Entertainment Bots:** Engaging in conversation, playing games, or providing companionship and entertainment.\n> * **Tech Support:** Assisting users with troubleshooting technical issues, providing guidance and solutions.\n> * **Healthcare Assistants:** Providing information on medical conditions, symptoms, and treatments.\n> \n> **Research and Education:**\n> * **Literature Review:** Summarizing and analyzing large volumes of research literature.\n> * **Scientific Discovery:** Identifying patterns and insights in complex datasets, facilitating new scientific discoveries.\n> * **Education Assistance:** Providing personalized learning support, answering student questions, and generating educational content.\n> * **Knowledge Management:** Organizing and extracting insights from vast amounts of unstructured data.\n> * **Historical Analysis:** Uncovering historical events and trends by analyzing documents and archives.\n> \n> **Other Usecases:**\n> * **Marketing and Advertising:** Generating targeted marketing campaigns, optimizing ad copy, and creating personalized content.\n> * **Social Media Management:** Monitoring social media trends, identifying influencers, and analyzing customer sentiment.\n> * **Gaming:** Creating immersive gaming experiences, generating dialogue, and procedurally generating game worlds.\n> * **E-commerce:** Personalizing shopping recommendations, providing customer support, and automating inventory management.\n> * **Asset Management:** Tracking and analyzing financial data, identifying investment opportunities, and generating reports."
          },
          "metadata": {},
          "execution_count": 68
        }
      ]
    },
    {
      "cell_type": "code",
      "source": [
        "from langchain_google_genai import ChatGoogleGenerativeAI"
      ],
      "metadata": {
        "id": "PNVqoeIdee9q"
      },
      "execution_count": 69,
      "outputs": []
    },
    {
      "cell_type": "code",
      "source": [
        "llm = ChatGoogleGenerativeAI(model=\"gemini-pro\",google_api_key=GOOGLE_API_KEY)"
      ],
      "metadata": {
        "id": "NRxnUT2OfK_o"
      },
      "execution_count": 70,
      "outputs": []
    },
    {
      "cell_type": "code",
      "source": [
        "result = llm.invoke(\"What are the usecases of LLMs?\")"
      ],
      "metadata": {
        "id": "mwRSgVPFfNjx"
      },
      "execution_count": 71,
      "outputs": []
    },
    {
      "cell_type": "code",
      "source": [
        "to_markdown(result.content)"
      ],
      "metadata": {
        "colab": {
          "base_uri": "https://localhost:8080/",
          "height": 579
        },
        "id": "GrTzchWcfPtI",
        "outputId": "ba7233a1-0531-46df-f7c7-38f19ffbe1b5"
      },
      "execution_count": 72,
      "outputs": [
        {
          "output_type": "execute_result",
          "data": {
            "text/plain": [
              "<IPython.core.display.Markdown object>"
            ],
            "text/markdown": "> **Natural Language Processing (NLP)**\n> \n> * **Text generation:** Creating new text, such as articles, stories, or scripts.\n> * **Text summarization:** Condensing large texts into concise summaries.\n> * **Machine translation:** Translating text between different languages.\n> * **Chatbots:** Developing conversational agents that can interact with humans using natural language.\n> * **Question answering:** Providing answers to questions based on a given context.\n> \n> **Code Generation and Analysis**\n> \n> * **Code generation:** Generating code in various programming languages.\n> * **Code completion:** Suggesting possible code completions or code snippets.\n> * **Code analysis:** Identifying errors, vulnerabilities, and optimization opportunities in code.\n> \n> **Education**\n> \n> * **Personalized learning:** Providing tailored educational content based on students' individual needs.\n> * **Virtual assistants:** Assisting students with homework, answering questions, and providing explanations.\n> * **Assessment and evaluation:** Generating questions, grading essays, and providing feedback.\n> \n> **Research and Innovation**\n> \n> * **Scientific discovery:** Identifying patterns and generating hypotheses in scientific data.\n> * **Drug discovery:** Designing new drugs and predicting their potential effectiveness.\n> * **Materials science:** Predicting material properties and optimizing manufacturing processes.\n> \n> **Business and Industry**\n> \n> * **Customer service:** Automating customer interactions and providing personalized support.\n> * **Marketing:** Generating marketing copy, analyzing customer feedback, and optimizing campaigns.\n> * **Finance:** Predicting financial trends, identifying investment opportunities, and automating risk assessment.\n> * **Healthcare:** Diagnosis support, treatment planning, and drug dosage optimization.\n> \n> **Other Creative Applications**\n> \n> * **Art and design:** Generating unique artwork, designs, and music.\n> * **Entertainment:** Writing scripts, generating storylines, and creating virtual characters.\n> * **Personalization:** Customizing experiences, such as email newsletters, social media feeds, and product recommendations."
          },
          "metadata": {},
          "execution_count": 72
        }
      ]
    },
    {
      "cell_type": "code",
      "source": [
        "import PIL.Image\n",
        "\n",
        "img = PIL.Image.open('/content/llama3.png')\n",
        "img"
      ],
      "metadata": {
        "colab": {
          "base_uri": "https://localhost:8080/",
          "height": 450
        },
        "id": "4U0LsKuJf9DH",
        "outputId": "a4f1b0df-75db-40af-a822-a42c877bd022"
      },
      "execution_count": 73,
      "outputs": [
        {
          "output_type": "execute_result",
          "data": {
            "text/plain": [
              "<PIL.PngImagePlugin.PngImageFile image mode=RGBA size=373x433>"
            ],
            "image/png": "[encoded data removed]"
          },
          "metadata": {},
          "execution_count": 73
        }
      ]
    },
    {
      "cell_type": "code",
      "source": [
        "!sudo apt -y -qq install tesseract-ocr libtesseract-dev\n",
        "\n",
        "!sudo apt-get -y -qq install poppler-utils libxml2-dev libxslt1-dev antiword unrtf poppler-utils pstotext tesseract-ocr flac ffmpeg lame libmad0 libsox-fmt-mp3 sox libjpeg-dev swig\n",
        "\n",
        "!pip install langchain"
      ],
      "metadata": {
        "colab": {
          "base_uri": "https://localhost:8080/"
        },
        "id": "e1rABiHtgmqA",
        "outputId": "7cb7db44-2005-4c78-e45e-c5947413b1fa"
      },
      "execution_count": 74,
      "outputs": [
        {
          "output_type": "stream",
          "name": "stdout",
          "text": [
            "libtesseract-dev is already the newest version (4.1.1-2.1build1).\n",
            "tesseract-ocr is already the newest version (4.1.1-2.1build1).\n",
            "0 upgraded, 0 newly installed, 0 to remove and 45 not upgraded.\n",
            "Requirement already satisfied: langchain in /usr/local/lib/python3.10/dist-packages (0.2.13)\n",
            "Requirement already satisfied: PyYAML>=5.3 in /usr/local/lib/python3.10/dist-packages (from langchain) (6.0.2)\n",
            "Requirement already satisfied: SQLAlchemy<3,>=1.4 in /usr/local/lib/python3.10/dist-packages (from langchain) (2.0.32)\n",
            "Requirement already satisfied: aiohttp<4.0.0,>=3.8.3 in /usr/local/lib/python3.10/dist-packages (from langchain) (3.10.1)\n",
            "Requirement already satisfied: async-timeout<5.0.0,>=4.0.0 in /usr/local/lib/python3.10/dist-packages (from langchain) (4.0.3)\n",
            "Requirement already satisfied: langchain-core<0.3.0,>=0.2.30 in /usr/local/lib/python3.10/dist-packages (from langchain) (0.2.30)\n",
            "Requirement already satisfied: langchain-text-splitters<0.3.0,>=0.2.0 in /usr/local/lib/python3.10/dist-packages (from langchain) (0.2.2)\n",
            "Requirement already satisfied: langsmith<0.2.0,>=0.1.17 in /usr/local/lib/python3.10/dist-packages (from langchain) (0.1.99)\n",
            "Requirement already satisfied: numpy<2,>=1 in /usr/local/lib/python3.10/dist-packages (from langchain) (1.26.4)\n",
            "Requirement already satisfied: pydantic<3,>=1 in /usr/local/lib/python3.10/dist-packages (from langchain) (2.8.2)\n",
            "Requirement already satisfied: requests<3,>=2 in /usr/local/lib/python3.10/dist-packages (from langchain) (2.32.3)\n",
            "Requirement already satisfied: tenacity!=8.4.0,<9.0.0,>=8.1.0 in /usr/local/lib/python3.10/dist-packages (from langchain) (8.5.0)\n",
            "Requirement already satisfied: aiohappyeyeballs>=2.3.0 in /usr/local/lib/python3.10/dist-packages (from aiohttp<4.0.0,>=3.8.3->langchain) (2.3.4)\n",
            "Requirement already satisfied: aiosignal>=1.1.2 in /usr/local/lib/python3.10/dist-packages (from aiohttp<4.0.0,>=3.8.3->langchain) (1.3.1)\n",
            "Requirement already satisfied: attrs>=17.3.0 in /usr/local/lib/python3.10/dist-packages (from aiohttp<4.0.0,>=3.8.3->langchain) (24.2.0)\n",
            "Requirement already satisfied: frozenlist>=1.1.1 in /usr/local/lib/python3.10/dist-packages (from aiohttp<4.0.0,>=3.8.3->langchain) (1.4.1)\n",
            "Requirement already satisfied: multidict<7.0,>=4.5 in /usr/local/lib/python3.10/dist-packages (from aiohttp<4.0.0,>=3.8.3->langchain) (6.0.5)\n",
            "Requirement already satisfied: yarl<2.0,>=1.0 in /usr/local/lib/python3.10/dist-packages (from aiohttp<4.0.0,>=3.8.3->langchain) (1.9.4)\n",
            "Requirement already satisfied: jsonpatch<2.0,>=1.33 in /usr/local/lib/python3.10/dist-packages (from langchain-core<0.3.0,>=0.2.30->langchain) (1.33)\n",
            "Requirement already satisfied: packaging<25,>=23.2 in /usr/local/lib/python3.10/dist-packages (from langchain-core<0.3.0,>=0.2.30->langchain) (24.1)\n",
            "Requirement already satisfied: typing-extensions>=4.7 in /usr/local/lib/python3.10/dist-packages (from langchain-core<0.3.0,>=0.2.30->langchain) (4.12.2)\n",
            "Requirement already satisfied: orjson<4.0.0,>=3.9.14 in /usr/local/lib/python3.10/dist-packages (from langsmith<0.2.0,>=0.1.17->langchain) (3.10.7)\n",
            "Requirement already satisfied: annotated-types>=0.4.0 in /usr/local/lib/python3.10/dist-packages (from pydantic<3,>=1->langchain) (0.7.0)\n",
            "Requirement already satisfied: pydantic-core==2.20.1 in /usr/local/lib/python3.10/dist-packages (from pydantic<3,>=1->langchain) (2.20.1)\n",
            "Requirement already satisfied: charset-normalizer<4,>=2 in /usr/local/lib/python3.10/dist-packages (from requests<3,>=2->langchain) (3.3.2)\n",
            "Requirement already satisfied: idna<4,>=2.5 in /usr/local/lib/python3.10/dist-packages (from requests<3,>=2->langchain) (3.7)\n",
            "Requirement already satisfied: urllib3<3,>=1.21.1 in /usr/local/lib/python3.10/dist-packages (from requests<3,>=2->langchain) (2.0.7)\n",
            "Requirement already satisfied: certifi>=2017.4.17 in /usr/local/lib/python3.10/dist-packages (from requests<3,>=2->langchain) (2024.7.4)\n",
            "Requirement already satisfied: greenlet!=0.4.17 in /usr/local/lib/python3.10/dist-packages (from SQLAlchemy<3,>=1.4->langchain) (3.0.3)\n",
            "Requirement already satisfied: jsonpointer>=1.9 in /usr/local/lib/python3.10/dist-packages (from jsonpatch<2.0,>=1.33->langchain-core<0.3.0,>=0.2.30->langchain) (3.0.0)\n"
          ]
        }
      ]
    },
    {
      "cell_type": "code",
      "source": [
        "!pip install langchain-community"
      ],
      "metadata": {
        "colab": {
          "base_uri": "https://localhost:8080/"
        },
        "id": "rQzzlLPKhLXD",
        "outputId": "4e734e52-5d1d-472a-9e1e-52f4be70fd75"
      },
      "execution_count": 75,
      "outputs": [
        {
          "output_type": "stream",
          "name": "stdout",
          "text": [
            "Requirement already satisfied: langchain-community in /usr/local/lib/python3.10/dist-packages (0.2.12)\n",
            "Requirement already satisfied: PyYAML>=5.3 in /usr/local/lib/python3.10/dist-packages (from langchain-community) (6.0.2)\n",
            "Requirement already satisfied: SQLAlchemy<3,>=1.4 in /usr/local/lib/python3.10/dist-packages (from langchain-community) (2.0.32)\n",
            "Requirement already satisfied: aiohttp<4.0.0,>=3.8.3 in /usr/local/lib/python3.10/dist-packages (from langchain-community) (3.10.1)\n",
            "Requirement already satisfied: dataclasses-json<0.7,>=0.5.7 in /usr/local/lib/python3.10/dist-packages (from langchain-community) (0.6.7)\n",
            "Requirement already satisfied: langchain<0.3.0,>=0.2.13 in /usr/local/lib/python3.10/dist-packages (from langchain-community) (0.2.13)\n",
            "Requirement already satisfied: langchain-core<0.3.0,>=0.2.30 in /usr/local/lib/python3.10/dist-packages (from langchain-community) (0.2.30)\n",
            "Requirement already satisfied: langsmith<0.2.0,>=0.1.0 in /usr/local/lib/python3.10/dist-packages (from langchain-community) (0.1.99)\n",
            "Requirement already satisfied: numpy<2,>=1 in /usr/local/lib/python3.10/dist-packages (from langchain-community) (1.26.4)\n",
            "Requirement already satisfied: requests<3,>=2 in /usr/local/lib/python3.10/dist-packages (from langchain-community) (2.32.3)\n",
            "Requirement already satisfied: tenacity!=8.4.0,<9.0.0,>=8.1.0 in /usr/local/lib/python3.10/dist-packages (from langchain-community) (8.5.0)\n",
            "Requirement already satisfied: aiohappyeyeballs>=2.3.0 in /usr/local/lib/python3.10/dist-packages (from aiohttp<4.0.0,>=3.8.3->langchain-community) (2.3.4)\n",
            "Requirement already satisfied: aiosignal>=1.1.2 in /usr/local/lib/python3.10/dist-packages (from aiohttp<4.0.0,>=3.8.3->langchain-community) (1.3.1)\n",
            "Requirement already satisfied: attrs>=17.3.0 in /usr/local/lib/python3.10/dist-packages (from aiohttp<4.0.0,>=3.8.3->langchain-community) (24.2.0)\n",
            "Requirement already satisfied: frozenlist>=1.1.1 in /usr/local/lib/python3.10/dist-packages (from aiohttp<4.0.0,>=3.8.3->langchain-community) (1.4.1)\n",
            "Requirement already satisfied: multidict<7.0,>=4.5 in /usr/local/lib/python3.10/dist-packages (from aiohttp<4.0.0,>=3.8.3->langchain-community) (6.0.5)\n",
            "Requirement already satisfied: yarl<2.0,>=1.0 in /usr/local/lib/python3.10/dist-packages (from aiohttp<4.0.0,>=3.8.3->langchain-community) (1.9.4)\n",
            "Requirement already satisfied: async-timeout<5.0,>=4.0 in /usr/local/lib/python3.10/dist-packages (from aiohttp<4.0.0,>=3.8.3->langchain-community) (4.0.3)\n",
            "Requirement already satisfied: marshmallow<4.0.0,>=3.18.0 in /usr/local/lib/python3.10/dist-packages (from dataclasses-json<0.7,>=0.5.7->langchain-community) (3.21.3)\n",
            "Requirement already satisfied: typing-inspect<1,>=0.4.0 in /usr/local/lib/python3.10/dist-packages (from dataclasses-json<0.7,>=0.5.7->langchain-community) (0.9.0)\n",
            "Requirement already satisfied: langchain-text-splitters<0.3.0,>=0.2.0 in /usr/local/lib/python3.10/dist-packages (from langchain<0.3.0,>=0.2.13->langchain-community) (0.2.2)\n",
            "Requirement already satisfied: pydantic<3,>=1 in /usr/local/lib/python3.10/dist-packages (from langchain<0.3.0,>=0.2.13->langchain-community) (2.8.2)\n",
            "Requirement already satisfied: jsonpatch<2.0,>=1.33 in /usr/local/lib/python3.10/dist-packages (from langchain-core<0.3.0,>=0.2.30->langchain-community) (1.33)\n",
            "Requirement already satisfied: packaging<25,>=23.2 in /usr/local/lib/python3.10/dist-packages (from langchain-core<0.3.0,>=0.2.30->langchain-community) (24.1)\n",
            "Requirement already satisfied: typing-extensions>=4.7 in /usr/local/lib/python3.10/dist-packages (from langchain-core<0.3.0,>=0.2.30->langchain-community) (4.12.2)\n",
            "Requirement already satisfied: orjson<4.0.0,>=3.9.14 in /usr/local/lib/python3.10/dist-packages (from langsmith<0.2.0,>=0.1.0->langchain-community) (3.10.7)\n",
            "Requirement already satisfied: charset-normalizer<4,>=2 in /usr/local/lib/python3.10/dist-packages (from requests<3,>=2->langchain-community) (3.3.2)\n",
            "Requirement already satisfied: idna<4,>=2.5 in /usr/local/lib/python3.10/dist-packages (from requests<3,>=2->langchain-community) (3.7)\n",
            "Requirement already satisfied: urllib3<3,>=1.21.1 in /usr/local/lib/python3.10/dist-packages (from requests<3,>=2->langchain-community) (2.0.7)\n",
            "Requirement already satisfied: certifi>=2017.4.17 in /usr/local/lib/python3.10/dist-packages (from requests<3,>=2->langchain-community) (2024.7.4)\n",
            "Requirement already satisfied: greenlet!=0.4.17 in /usr/local/lib/python3.10/dist-packages (from SQLAlchemy<3,>=1.4->langchain-community) (3.0.3)\n",
            "Requirement already satisfied: jsonpointer>=1.9 in /usr/local/lib/python3.10/dist-packages (from jsonpatch<2.0,>=1.33->langchain-core<0.3.0,>=0.2.30->langchain-community) (3.0.0)\n",
            "Requirement already satisfied: annotated-types>=0.4.0 in /usr/local/lib/python3.10/dist-packages (from pydantic<3,>=1->langchain<0.3.0,>=0.2.13->langchain-community) (0.7.0)\n",
            "Requirement already satisfied: pydantic-core==2.20.1 in /usr/local/lib/python3.10/dist-packages (from pydantic<3,>=1->langchain<0.3.0,>=0.2.13->langchain-community) (2.20.1)\n",
            "Requirement already satisfied: mypy-extensions>=0.3.0 in /usr/local/lib/python3.10/dist-packages (from typing-inspect<1,>=0.4.0->dataclasses-json<0.7,>=0.5.7->langchain-community) (1.0.0)\n"
          ]
        }
      ]
    },
    {
      "cell_type": "code",
      "source": [
        "import urllib\n",
        "import warnings\n",
        "from pathlib import Path as p\n",
        "from pprint import pprint\n",
        "\n",
        "import pandas as pd\n",
        "from langchain import PromptTemplate\n",
        "from langchain.chains.question_answering import load_qa_chain\n",
        "from langchain_community.document_loaders import PyPDFLoader\n",
        "from langchain.text_splitter import RecursiveCharacterTextSplitter\n",
        "from langchain.vectorstores import Chroma\n",
        "from langchain.chains import RetrievalQA\n",
        "\n",
        "\n",
        "\n",
        "warnings.filterwarnings(\"ignore\")\n",
        "# restart python kernal if issues with langchain import."
      ],
      "metadata": {
        "id": "WLBt761hgpcn"
      },
      "execution_count": 76,
      "outputs": []
    },
    {
      "cell_type": "code",
      "source": [
        "from langchain_google_genai import ChatGoogleGenerativeAI"
      ],
      "metadata": {
        "id": "ny2TJSn1gx4w"
      },
      "execution_count": 77,
      "outputs": []
    },
    {
      "cell_type": "code",
      "source": [
        "model = ChatGoogleGenerativeAI(model=\"gemini-pro\",google_api_key=GOOGLE_API_KEY,\n",
        "                             temperature=0.5,convert_system_message_to_human=True)"
      ],
      "metadata": {
        "id": "w7lbl3vnhTgv"
      },
      "execution_count": 78,
      "outputs": []
    },
    {
      "cell_type": "code",
      "source": [
        "pdf_loader = PyPDFLoader(\"/content/AI_Shortnotes.pdf\")\n",
        "pages = pdf_loader.load_and_split()\n",
        "print(pages[3].page_content)"
      ],
      "metadata": {
        "colab": {
          "base_uri": "https://localhost:8080/"
        },
        "id": "KtdVjnXrhWET",
        "outputId": "a5e0de24-ea52-49bc-f79e-1330dc85df93"
      },
      "execution_count": 79,
      "outputs": [
        {
          "output_type": "stream",
          "name": "stdout",
          "text": [
            "Untitled\n",
            "4\n",
            "\u0000 Machine Le ar ning ML\n",
            "ML in v ol v es training algor ithms t o le ar n p at t er ns and mak e pr edictions  \n",
            "fr om dat a without being e xplicitl y pr ogrammed.\n",
            "T ypes of ML include super vised le ar ning, unsuper vised le ar ning, and  \n",
            "r einf or cement le ar ning.\n",
            "Super vised le ar ning uses labeled dat a t o train models t o mak e  \n",
            "pr edictions or classify ne w dat a.\n",
            "Unsuper vised le ar ning in v ol v es finding p at t er ns or structur e in  \n",
            "unlabeled dat a.\n",
            "R einf or cement le ar ning uses a r e war d syst em t o guide an agent  \n",
            "t o war ds optimal actions in a giv en en vir onment.\n",
            "\u0000 Deep Le ar ning:\n",
            "Deep le ar ning is a subset of ML that uses ar tificial neural net w or ks with  \n",
            "mul tiple la y ers t o model comple x p at t er ns in lar ge dat aset s.\n",
            "Deep le ar ning has been p ar ticular l y successful in t asks such as image  \n",
            "r ecognition, natural language pr ocessing, and speech r ecognition.\n",
            "\u0000 Natur al Language Pr ocessing NLP\n",
            "NLP f ocuses on enabling comput ers t o underst and, int er pr et, and  \n",
            "generat e human language.\n"
          ]
        }
      ]
    },
    {
      "cell_type": "code",
      "source": [
        "len(pages)"
      ],
      "metadata": {
        "colab": {
          "base_uri": "https://localhost:8080/"
        },
        "id": "CUHy59XJhiyL",
        "outputId": "66448fa9-15cd-4476-9313-9a96a7533db8"
      },
      "execution_count": 80,
      "outputs": [
        {
          "output_type": "execute_result",
          "data": {
            "text/plain": [
              "29"
            ]
          },
          "metadata": {},
          "execution_count": 80
        }
      ]
    },
    {
      "cell_type": "markdown",
      "source": [
        "#**RAG Pipeline: Embedding + Gemini (LLM)**"
      ],
      "metadata": {
        "id": "lVIQvhkrhpVl"
      }
    },
    {
      "cell_type": "code",
      "source": [
        "from langchain_google_genai import GoogleGenerativeAIEmbeddings"
      ],
      "metadata": {
        "id": "Kc6YVmwahmjQ"
      },
      "execution_count": 81,
      "outputs": []
    },
    {
      "cell_type": "code",
      "source": [
        "text_splitter = RecursiveCharacterTextSplitter(chunk_size=10000, chunk_overlap=1000)\n",
        "context = \"\\n\\n\".join(str(p.page_content) for p in pages)\n",
        "texts = text_splitter.split_text(context)"
      ],
      "metadata": {
        "id": "adai2n5YhzFm"
      },
      "execution_count": 82,
      "outputs": []
    },
    {
      "cell_type": "code",
      "source": [
        "embeddings = GoogleGenerativeAIEmbeddings(model=\"models/embedding-001\",google_api_key=GOOGLE_API_KEY)"
      ],
      "metadata": {
        "id": "G0B1m0Tth1MY"
      },
      "execution_count": 83,
      "outputs": []
    },
    {
      "cell_type": "code",
      "source": [
        "vector_index = Chroma.from_texts(texts, embeddings).as_retriever(search_kwargs={\"k\":5})"
      ],
      "metadata": {
        "id": "Ib6tOvOEh5B5"
      },
      "execution_count": 84,
      "outputs": []
    },
    {
      "cell_type": "code",
      "source": [
        "qa_chain = RetrievalQA.from_chain_type(\n",
        "    model,\n",
        "    retriever=vector_index,\n",
        "    return_source_documents=True\n",
        "    )"
      ],
      "metadata": {
        "id": "StRN33_oh8SS"
      },
      "execution_count": 85,
      "outputs": []
    },
    {
      "cell_type": "code",
      "source": [
        "question = \" what is  Machine Learning?\"\n",
        "result = qa_chain({\"query\": question})\n",
        "result[\"result\"]"
      ],
      "metadata": {
        "colab": {
          "base_uri": "https://localhost:8080/",
          "height": 53
        },
        "id": "FjzXthIkiBVk",
        "outputId": "2d4eb311-cb6e-4252-8165-094e724568f9"
      },
      "execution_count": 92,
      "outputs": [
        {
          "output_type": "execute_result",
          "data": {
            "text/plain": [
              "'Machine learning is a type of artificial intelligence (AI) that allows software applications to become more accurate in predicting outcomes without being explicitly programmed to do so. Machine learning algorithms use historical data as input to predict new output values.'"
            ],
            "application/vnd.google.colaboratory.intrinsic+json": {
              "type": "string"
            }
          },
          "metadata": {},
          "execution_count": 92
        }
      ]
    },
    {
      "cell_type": "code",
      "source": [
        "Markdown(result[\"result\"])"
      ],
      "metadata": {
        "colab": {
          "base_uri": "https://localhost:8080/",
          "height": 64
        },
        "id": "bSB2XvPIiMZJ",
        "outputId": "68640903-47a4-4ab7-aac3-aea51bb8696d"
      },
      "execution_count": 93,
      "outputs": [
        {
          "output_type": "execute_result",
          "data": {
            "text/plain": [
              "<IPython.core.display.Markdown object>"
            ],
            "text/markdown": "Machine learning is a type of artificial intelligence (AI) that allows software applications to become more accurate in predicting outcomes without being explicitly programmed to do so. Machine learning algorithms use historical data as input to predict new output values."
          },
          "metadata": {},
          "execution_count": 93
        }
      ]
    },
    {
      "cell_type": "code",
      "source": [
        "result[\"source_documents\"]"
      ],
      "metadata": {
        "colab": {
          "base_uri": "https://localhost:8080/"
        },
        "id": "tqgHFmiTikTC",
        "outputId": "b1e05f59-28bb-4df9-d5ba-5ce6b6a06a9f"
      },
      "execution_count": 94,
      "outputs": [
        {
          "output_type": "execute_result",
          "data": {
            "text/plain": [
              "[Document(page_content='Untitled\\n1I n t r o d u c t i o n  t o  A r t i f i c i a l  I n t e l l i g e n c e  ( A I ) :\\nAr tificial int elligence le v erages comput ers and machines t o mimic the pr oblem-\\nsol ving and decision-making c ap abilities of the human mind. I t is implement ed  \\nin machines t o per f or m t asks that actuall y r equir e human int elligence.\\nH i s t o r i c a l  B a c k d r o p :\\nEar l y Concept s:  The concept of AI dat es b ack t o ancient civilizations, but  \\nsignific ant de v elopment s emer ged in the 20 th centur y .\\nAlan T ur ing:  T ur ing\\'s w or k laid theor etic al f oundations f or AI with his  \\nconcept of a univ ersal machine c ap able of per f or ming an y comput ational  \\nt ask.\\nDar tmout h Conf er ence \\ue0811956\\ue082\\ue092  Coined the t er m \"ar tificial int elligence \" and  \\nmar k ed the f or mal beginning of AI as a field.\\nEar l y AI Pr ogr ams:  Pr ograms lik e the Logic Theor ist and General Pr oblem  \\nSol v er demonstrat ed e ar l y at t empt s at AI pr oblem-sol ving.\\nAI Summers and Wint ers:  The field e xper ienced per iods of rapid pr ogr ess  \\n\\ue081AI summers) f ollo w ed b y st agnation and r educed funding \\ue081AI wint ers) due  \\nt o o v er h yped e xpect ations and under whelming r esul t s.\\nModer n A d v ancement s:  R ecent dec ades ha v e seen signific ant  \\nad v ancement s in AI, p ar ticular l y in machine le ar ning and deep le ar ning  \\nt echniques.\\nA p p l i c a t i o n s  o f  A r t i f i c i a l  I n t e l l i g e n c e :\\n\\ue072\\ue094\\x00 AI-po w er ed A ssist ant s:\\nVir tual assist ant s lik e Sir i, Ale xa, and Google Assist ant utiliz e AI t o  \\nunderst and and r espond t o user quer ies, per f or m t asks, and pr o vide  \\npersonaliz ed assist ance.\\n\\ue073\\ue094\\x00 F r aud Pr e v ention:\\nAI algor ithms anal yz e v ast amount s of dat a t o det ect p at t er ns and  \\nanomalies indic ativ e of fraudulent activities, helping financial  \\ninstitutions and businesses pr e v ent fraud.\\n\\ue074\\ue094\\x00 Social Media:\\n\\nUntitled\\n2AI algor ithms ar e emplo y ed f or cont ent r ecommendation, personaliz ed  \\nad v er tising, sentiment anal ysis, and moderating user -generat ed cont ent  \\non social media plat f or ms.\\n\\ue075\\ue094\\x00 Aut omotiv e:\\nAI po w ers aut onomous v ehicles, assist s in dr iv er assist ance syst ems f or  \\ncollision a v oidance, traf fic management, and enhances v ehicle  \\nna vigation and pr edictiv e maint enance.\\n\\ue076\\ue094\\x00 A gr icul tur e:\\nAI t echnologies such as pr ecision f ar ming use dat a anal y tics, sensors,  \\nand dr ones t o optimiz e cr op yield, monit or soil he al th, manage  \\nir r igation, and pr edict w e ather p at t er ns.\\n\\ue077\\ue094\\x00 R obotics:\\nAI enables r obot s t o per f or m t asks aut onomousl y or in collaboration  \\nwith humans acr oss v ar ious industr ies, including manuf actur ing,  \\nhe al thc ar e, logistics, and sp ace e xploration.\\n\\ue078\\ue094\\x00 E\\ue088Commer ce:\\nAI enhances the e-commer ce e xper ience thr ough personaliz ed pr oduct  \\nr ecommendations, chatbot s f or cust omer ser vice, in v ent or y  \\nmanagement, pr icing optimization, and fraud det ection.\\n\\ue079\\ue094\\x00 Gaming:\\nAI is utiliz ed in gaming f or cr e ating int elligent non-pla y er charact ers  \\n\\ue081NPCs), generating adaptiv e gamepla y e xper iences, impr o ving graphics  \\nr ender ing, and de v eloping pr ocedural cont ent generation algor ithms.\\nA I  P r o b l e m  a n d  D i s a d v a n t a g e s :\\nAr tificial Int elligence \\ue081AI\\ue082 of f ers numer ous benefit s and ad v ant ages, but it also  \\npr esent s se v eral drawb acks and challenges that need consideration. Let\\'s  \\ndel v e int o some of the k e y disad v ant ages of AI\\ue092\\n\\ue072\\ue094\\x00 High Cost:\\nThe har dwar e and sof t war e r equir ement s f or AI syst ems ar e of t en  \\ne xpensiv e, r equir ing signific ant in v estment in both de v elopment and  \\nmaint enance.\\n\\nUntitled\\n3Continuous upgrades and maint enance ar e necessar y t o k eep AI  \\nsyst ems up-t o-dat e with e v ol ving t echnology and user r equir ement s,  \\nadding t o the o v erall cost.\\n\\ue073\\ue094\\x00 Limit ed Abilit y t o Think Cr e ativ el y:\\nWhile AI syst ems c an per f or m specific t asks with high ef ficienc y , the y  \\nlack the abilit y t o think cr e ativ el y or inno v at e be y ond their  \\npr ogramming.\\nAI syst ems operat e b ased on pr edefined algor ithms and dat a, limiting  \\ntheir c ap acit y t o generat e or iginal ide as or solutions out side of their  \\npr ogrammed p aramet ers.\\n\\ue074\\ue094\\x00 Lack of Emotions and Emp at h y:\\nAI machines lack the c ap acit y f or emotions and emp ath y , which c an  \\nimp act their int eractions with humans.\\nThis absence of emotional int elligence me ans that AI syst ems c annot  \\nunderst and or r espond appr opr iat el y t o human emotions, pot entiall y  \\nle ading t o misunderst andings or e v en har mful out comes if not pr oper l y  \\nmanaged.\\n\\ue075\\ue094\\x00 Incr e ased Dependenc y on Machines:\\nThe pr olif eration of AI t echnologies ma y le ad t o a gr o wing dependenc y  \\non machines f or v ar ious t asks, r educing human in v ol v ement and  \\nr eliance on individual cognitiv e abilities.\\nEx cessiv e r eliance on AI c an diminish human skills and c ap abilities,  \\npot entiall y le ading t o a decline in ment al agilit y and pr oblem-sol ving  \\nabilities among users.\\n\\ue076\\ue094\\x00 Lack of Or iginal Cr e ativit y:\\nWhile AI syst ems e x cel at per f or ming t asks b ased on e xisting  \\nkno wledge and dat a, the y struggle t o e xhibit genuine cr e ativit y or  \\nimagination.\\nHuman cr e ativit y in v ol v es the abilit y t o generat e no v el ide as, think  \\nabstractl y , and en vision possibilities be y ond e xisting constraint s, which  \\ncur r ent AI syst ems ar e unable t o r eplic at e.\\nT e c h n i q u e s  o f  A I\\n\\nUntitled\\n4\\n\\ue072\\ue094\\x00 Machine Le ar ning \\ue081ML\\ue082\\ue092\\nML in v ol v es training algor ithms t o le ar n p at t er ns and mak e pr edictions  \\nfr om dat a without being e xplicitl y pr ogrammed.\\nT ypes of ML include super vised le ar ning, unsuper vised le ar ning, and  \\nr einf or cement le ar ning.\\nSuper vised le ar ning uses labeled dat a t o train models t o mak e  \\npr edictions or classify ne w dat a.\\nUnsuper vised le ar ning in v ol v es finding p at t er ns or structur e in  \\nunlabeled dat a.\\nR einf or cement le ar ning uses a r e war d syst em t o guide an agent  \\nt o war ds optimal actions in a giv en en vir onment.\\n\\ue073\\ue094\\x00 Deep Le ar ning:\\nDeep le ar ning is a subset of ML that uses ar tificial neural net w or ks with  \\nmul tiple la y ers t o model comple x p at t er ns in lar ge dat aset s.\\nDeep le ar ning has been p ar ticular l y successful in t asks such as image  \\nr ecognition, natural language pr ocessing, and speech r ecognition.\\n\\ue074\\ue094\\x00 Natur al Language Pr ocessing \\ue081NLP\\ue082\\ue092\\nNLP f ocuses on enabling comput ers t o underst and, int er pr et, and  \\ngenerat e human language.\\n\\nUntitled\\n5T echniques in NLP include t e x t classific ation, sentiment anal ysis,  \\nnamed entit y r ecognition, and machine translation.\\n\\ue075\\ue094\\x00 Comput er Vision:\\nComput er vision in v ol v es enabling comput ers t o int er pr et and  \\nunderst and visual inf or mation fr om images or videos.\\nT echniques include object det ection, image segment ation, image  \\nclassific ation, and image generation.\\n\\ue076\\ue094\\x00 Exper t Syst ems:\\nExper t syst ems use a kno wledge b ase of e xper t -le v el inf or mation t o  \\nsol v e pr oblems in a specific domain.\\nThese syst ems emplo y rules-b ased r e asoning t o mak e decisions and  \\npr o vide r ecommendations.\\n\\ue077\\ue094\\x00 Genetic Algor it hms:\\nGenetic algor ithms ar e optimization t echniques inspir ed b y the pr ocess  \\nof natural selection and genetics.\\nThe y ar e used t o e v ol v e solutions t o optimization and se ar ch pr oblems  \\nb y it erativ el y generating and selecting c andidat e solutions.\\n\\ue078\\ue094\\x00 F uzzy Logic:\\nF uzzy logic de als with r e asoning and decision-making in situations  \\nwher e inf or mation is uncer t ain or impr ecise.\\nI t allo ws f or degr ees of truth, rather than str ict binar y (true or f alse )  \\nv alues, enabling mor e nuanced decision-making.\\n\\ue079\\ue094\\x00 R einf or cement Le ar ning:\\nR einf or cement le ar ning is a t echnique wher e an agent le ar ns t o mak e  \\ndecisions b y tr ial and er r or in an en vir onment, aiming t o maximiz e  \\ncumulativ e r e war ds.\\nI t has applic ations in ar e as such as game pla ying, r obotics, and  \\naut onomous v ehicle contr ol.\\nP r o d u c t i o n  S y s t e m s  i n  A I :'),\n",
              " Document(page_content='Untitled\\n1I n t r o d u c t i o n  t o  A r t i f i c i a l  I n t e l l i g e n c e  ( A I ) :\\nAr tificial int elligence le v erages comput ers and machines t o mimic the pr oblem-\\nsol ving and decision-making c ap abilities of the human mind. I t is implement ed  \\nin machines t o per f or m t asks that actuall y r equir e human int elligence.\\nH i s t o r i c a l  B a c k d r o p :\\nEar l y Concept s:  The concept of AI dat es b ack t o ancient civilizations, but  \\nsignific ant de v elopment s emer ged in the 20 th centur y .\\nAlan T ur ing:  T ur ing\\'s w or k laid theor etic al f oundations f or AI with his  \\nconcept of a univ ersal machine c ap able of per f or ming an y comput ational  \\nt ask.\\nDar tmout h Conf er ence \\ue0811956\\ue082\\ue092  Coined the t er m \"ar tificial int elligence \" and  \\nmar k ed the f or mal beginning of AI as a field.\\nEar l y AI Pr ogr ams:  Pr ograms lik e the Logic Theor ist and General Pr oblem  \\nSol v er demonstrat ed e ar l y at t empt s at AI pr oblem-sol ving.\\nAI Summers and Wint ers:  The field e xper ienced per iods of rapid pr ogr ess  \\n\\ue081AI summers) f ollo w ed b y st agnation and r educed funding \\ue081AI wint ers) due  \\nt o o v er h yped e xpect ations and under whelming r esul t s.\\nModer n A d v ancement s:  R ecent dec ades ha v e seen signific ant  \\nad v ancement s in AI, p ar ticular l y in machine le ar ning and deep le ar ning  \\nt echniques.\\nA p p l i c a t i o n s  o f  A r t i f i c i a l  I n t e l l i g e n c e :\\n\\ue072\\ue094\\x00 AI-po w er ed A ssist ant s:\\nVir tual assist ant s lik e Sir i, Ale xa, and Google Assist ant utiliz e AI t o  \\nunderst and and r espond t o user quer ies, per f or m t asks, and pr o vide  \\npersonaliz ed assist ance.\\n\\ue073\\ue094\\x00 F r aud Pr e v ention:\\nAI algor ithms anal yz e v ast amount s of dat a t o det ect p at t er ns and  \\nanomalies indic ativ e of fraudulent activities, helping financial  \\ninstitutions and businesses pr e v ent fraud.\\n\\ue074\\ue094\\x00 Social Media:\\n\\nUntitled\\n2AI algor ithms ar e emplo y ed f or cont ent r ecommendation, personaliz ed  \\nad v er tising, sentiment anal ysis, and moderating user -generat ed cont ent  \\non social media plat f or ms.\\n\\ue075\\ue094\\x00 Aut omotiv e:\\nAI po w ers aut onomous v ehicles, assist s in dr iv er assist ance syst ems f or  \\ncollision a v oidance, traf fic management, and enhances v ehicle  \\nna vigation and pr edictiv e maint enance.\\n\\ue076\\ue094\\x00 A gr icul tur e:\\nAI t echnologies such as pr ecision f ar ming use dat a anal y tics, sensors,  \\nand dr ones t o optimiz e cr op yield, monit or soil he al th, manage  \\nir r igation, and pr edict w e ather p at t er ns.\\n\\ue077\\ue094\\x00 R obotics:\\nAI enables r obot s t o per f or m t asks aut onomousl y or in collaboration  \\nwith humans acr oss v ar ious industr ies, including manuf actur ing,  \\nhe al thc ar e, logistics, and sp ace e xploration.\\n\\ue078\\ue094\\x00 E\\ue088Commer ce:\\nAI enhances the e-commer ce e xper ience thr ough personaliz ed pr oduct  \\nr ecommendations, chatbot s f or cust omer ser vice, in v ent or y  \\nmanagement, pr icing optimization, and fraud det ection.\\n\\ue079\\ue094\\x00 Gaming:\\nAI is utiliz ed in gaming f or cr e ating int elligent non-pla y er charact ers  \\n\\ue081NPCs), generating adaptiv e gamepla y e xper iences, impr o ving graphics  \\nr ender ing, and de v eloping pr ocedural cont ent generation algor ithms.\\nA I  P r o b l e m  a n d  D i s a d v a n t a g e s :\\nAr tificial Int elligence \\ue081AI\\ue082 of f ers numer ous benefit s and ad v ant ages, but it also  \\npr esent s se v eral drawb acks and challenges that need consideration. Let\\'s  \\ndel v e int o some of the k e y disad v ant ages of AI\\ue092\\n\\ue072\\ue094\\x00 High Cost:\\nThe har dwar e and sof t war e r equir ement s f or AI syst ems ar e of t en  \\ne xpensiv e, r equir ing signific ant in v estment in both de v elopment and  \\nmaint enance.\\n\\nUntitled\\n3Continuous upgrades and maint enance ar e necessar y t o k eep AI  \\nsyst ems up-t o-dat e with e v ol ving t echnology and user r equir ement s,  \\nadding t o the o v erall cost.\\n\\ue073\\ue094\\x00 Limit ed Abilit y t o Think Cr e ativ el y:\\nWhile AI syst ems c an per f or m specific t asks with high ef ficienc y , the y  \\nlack the abilit y t o think cr e ativ el y or inno v at e be y ond their  \\npr ogramming.\\nAI syst ems operat e b ased on pr edefined algor ithms and dat a, limiting  \\ntheir c ap acit y t o generat e or iginal ide as or solutions out side of their  \\npr ogrammed p aramet ers.\\n\\ue074\\ue094\\x00 Lack of Emotions and Emp at h y:\\nAI machines lack the c ap acit y f or emotions and emp ath y , which c an  \\nimp act their int eractions with humans.\\nThis absence of emotional int elligence me ans that AI syst ems c annot  \\nunderst and or r espond appr opr iat el y t o human emotions, pot entiall y  \\nle ading t o misunderst andings or e v en har mful out comes if not pr oper l y  \\nmanaged.\\n\\ue075\\ue094\\x00 Incr e ased Dependenc y on Machines:\\nThe pr olif eration of AI t echnologies ma y le ad t o a gr o wing dependenc y  \\non machines f or v ar ious t asks, r educing human in v ol v ement and  \\nr eliance on individual cognitiv e abilities.\\nEx cessiv e r eliance on AI c an diminish human skills and c ap abilities,  \\npot entiall y le ading t o a decline in ment al agilit y and pr oblem-sol ving  \\nabilities among users.\\n\\ue076\\ue094\\x00 Lack of Or iginal Cr e ativit y:\\nWhile AI syst ems e x cel at per f or ming t asks b ased on e xisting  \\nkno wledge and dat a, the y struggle t o e xhibit genuine cr e ativit y or  \\nimagination.\\nHuman cr e ativit y in v ol v es the abilit y t o generat e no v el ide as, think  \\nabstractl y , and en vision possibilities be y ond e xisting constraint s, which  \\ncur r ent AI syst ems ar e unable t o r eplic at e.\\nT e c h n i q u e s  o f  A I\\n\\nUntitled\\n4\\n\\ue072\\ue094\\x00 Machine Le ar ning \\ue081ML\\ue082\\ue092\\nML in v ol v es training algor ithms t o le ar n p at t er ns and mak e pr edictions  \\nfr om dat a without being e xplicitl y pr ogrammed.\\nT ypes of ML include super vised le ar ning, unsuper vised le ar ning, and  \\nr einf or cement le ar ning.\\nSuper vised le ar ning uses labeled dat a t o train models t o mak e  \\npr edictions or classify ne w dat a.\\nUnsuper vised le ar ning in v ol v es finding p at t er ns or structur e in  \\nunlabeled dat a.\\nR einf or cement le ar ning uses a r e war d syst em t o guide an agent  \\nt o war ds optimal actions in a giv en en vir onment.\\n\\ue073\\ue094\\x00 Deep Le ar ning:\\nDeep le ar ning is a subset of ML that uses ar tificial neural net w or ks with  \\nmul tiple la y ers t o model comple x p at t er ns in lar ge dat aset s.\\nDeep le ar ning has been p ar ticular l y successful in t asks such as image  \\nr ecognition, natural language pr ocessing, and speech r ecognition.\\n\\ue074\\ue094\\x00 Natur al Language Pr ocessing \\ue081NLP\\ue082\\ue092\\nNLP f ocuses on enabling comput ers t o underst and, int er pr et, and  \\ngenerat e human language.\\n\\nUntitled\\n5T echniques in NLP include t e x t classific ation, sentiment anal ysis,  \\nnamed entit y r ecognition, and machine translation.\\n\\ue075\\ue094\\x00 Comput er Vision:\\nComput er vision in v ol v es enabling comput ers t o int er pr et and  \\nunderst and visual inf or mation fr om images or videos.\\nT echniques include object det ection, image segment ation, image  \\nclassific ation, and image generation.\\n\\ue076\\ue094\\x00 Exper t Syst ems:\\nExper t syst ems use a kno wledge b ase of e xper t -le v el inf or mation t o  \\nsol v e pr oblems in a specific domain.\\nThese syst ems emplo y rules-b ased r e asoning t o mak e decisions and  \\npr o vide r ecommendations.\\n\\ue077\\ue094\\x00 Genetic Algor it hms:\\nGenetic algor ithms ar e optimization t echniques inspir ed b y the pr ocess  \\nof natural selection and genetics.\\nThe y ar e used t o e v ol v e solutions t o optimization and se ar ch pr oblems  \\nb y it erativ el y generating and selecting c andidat e solutions.\\n\\ue078\\ue094\\x00 F uzzy Logic:\\nF uzzy logic de als with r e asoning and decision-making in situations  \\nwher e inf or mation is uncer t ain or impr ecise.\\nI t allo ws f or degr ees of truth, rather than str ict binar y (true or f alse )  \\nv alues, enabling mor e nuanced decision-making.\\n\\ue079\\ue094\\x00 R einf or cement Le ar ning:\\nR einf or cement le ar ning is a t echnique wher e an agent le ar ns t o mak e  \\ndecisions b y tr ial and er r or in an en vir onment, aiming t o maximiz e  \\ncumulativ e r e war ds.\\nI t has applic ations in ar e as such as game pla ying, r obotics, and  \\naut onomous v ehicle contr ol.\\nP r o d u c t i o n  S y s t e m s  i n  A I :'),\n",
              " Document(page_content=\"Untitled\\n6A pr oduction syst em in AI f acilit at es the cr e ation of AI-b ased comput er  \\npr ograms and aut omat es v ar ious t ypes of machines, including comput ers,  \\nmobile applic ations, and manuf actur ing t ools. I t defines the beha vior of  \\nmachines thr ough a set of rules, enabling them t o r espond t o their sur r oundings  \\nef f ectiv el y .\\nDef inition:\\nA pr oduction syst em in AI is a t ype of cognitiv e ar chit ectur e that  \\nspecifies actions b ased on pr edefined rules. These rules r epr esent the  \\ndeclarativ e kno wledge of a machine, guiding it s beha vior under  \\ndif f er ent conditions.\\nMan y e xper t syst ems and aut omation methodologies r el y on the rules  \\nof pr oduction syst ems t o operat e ef ficientl y .\\nBasic Ar chit ectur e:\\nThe rules in a pr oduction syst em consist of lef t -hand side \\ue081LHS\\ue082 and  \\nr ight -hand side \\ue081RHS\\ue082 equations.\\nThe LHS denot es specific conditions t o be applied, while the RHS  \\nr epr esent s the output r esul ting fr om the applied condition.\\nComponent s of a Pr oduction Syst em:\\nW or king Memor y:  St or es inf or mation about the cur r ent st at e of the  \\nsyst em, including r ele v ant dat a and f act s.\\nPr oduction Rules:  R epr esent declarativ e kno wledge and specify  \\nactions t o be t ak en b ased on the conditions pr esent in the w or king  \\nmemor y .\\nInf er ence Engine:  Ev aluat es the conditions specified in the pr oduction  \\nrules and select s applic able rules f or e x ecution.\\nContr ol Str at egy:  Go v er ns the or der in which rules ar e applied and  \\ne x ecut ed, ensur ing ef ficient pr oblem-sol ving.\\nConflict R esolution Mechanism:  R esol v es conflict s that ma y ar ise  \\nwhen mul tiple rules ar e applic able or conflicting, pr ior itizing rules b ased  \\non pr edefined cr it er ia.\\nKno wledge R epr esent ation:\\nKno wledge in AI encomp asses v ar ious component s used f or cr e ating  \\nint elligent machines.\\n\\nUntitled\\n7The r epr esent ation of kno wledge in a pr oduction syst em includes rules,  \\nf act s, and r elationships bet w een dif f er ent element s.\\nBy or ganizing kno wledge ef f ectiv el y , pr oduction syst ems enable  \\nmachines t o mak e inf or med decisions and r espond appr opr iat el y t o  \\nchanging cir cumst ances.\\nPr oduction syst ems in AI pla y a crucial r ole in enabling machines t o e xhibit  \\nint elligent beha vior and per f or m t asks aut onomousl y . The y pr o vide a structur ed  \\nframe w or k f or implementing e xper t syst ems and aut omation solutions,  \\ncontr ibuting t o ad v ancement s in v ar ious fields.\\nC h a r a c t e r i s t i c s  o f  P r o d u c t i o n  S y s t e m s  i n  A I :\\n\\ue072\\ue094\\x00 Simplicit y:\\nPr oduction rules in AI f ollo w an 'IF\\ue088 THEN' st at ement f or mat, ensur ing a  \\nstraight f or war d r epr esent ation of kno wledge and r e asoning.\\nEach rule in the pr oduction syst em has a unique structur e, simplifying  \\nthe underst anding and r e adabilit y of the rules.\\nThis simplicit y aids in sol ving r e al-w or ld pr oblems ef ficientl y b y  \\nr epr esenting kno wledge in the simplest possible manner .\\n\\ue073\\ue094\\x00 Modular it y:\\nPr oduction rules e xhibit modular it y , allo wing f or incr ement al  \\nimpr o v ement and adjustment.\\nRules ar e composed of discr et e p ar t s, of t en r epr esenting collections of  \\ninf or mation and f act s with minimal dependencies.\\n\\nUntitled\\n8Changes or additions t o individual component s do not signific antl y  \\nimp act the o v erall functionalit y of the pr oduction syst em.\\nModular it y enhances the per f or mance of the pr oduction syst em b y  \\nf acilit ating adjustment s t o rule p aramet ers without disrupting the entir e  \\nsyst em.\\n\\ue074\\ue094\\x00 Modif iabilit y:\\nThe modifiabilit y f e atur e enables e asy al t eration of pr oduction rules  \\nb ased on e v ol ving r equir ement s.\\nInitiall y , the pr oduction syst em is cr e at ed with a sk elet al structur e,  \\nwhich c an be r efined and modified as needed.\\nGather ing r equir ement s and making changes t o the raw structur e of the  \\npr oduction syst em allo ws f or it erativ e impr o v ement s o v er time.\\n\\ue075\\ue094\\x00 Kno wledge-Int ensiv e:\\nPr oduction syst ems ar e kno wledge-int ensiv e, cont aining inf or mation  \\nr epr esent ed in human-spok en language, t ypic all y English.\\nUnlik e traditional pr ogramming languages, pr oduction syst ems utiliz e  \\nplain English sent ences t o r epr esent kno wledge.\\nPr oduction rules enable the der iv ation of pr oductiv e conclusions fr om  \\nthese sent ences, le v eraging the w e al th of human kno wledge embedded  \\nin the syst em.\\nS e a r c h  A l g o r i t h m s  i n  A r t i f i c i a l  I n t e l l i g e n c e\\n\\nUntitled\\n9Pr oblem-sol ving agent s:\\nIn Ar tificial Int elligence, se ar ch t echniques ser v e as univ ersal pr oblem-sol ving  \\nmethods. R ational or pr oblem-sol ving agent s pr edominantl y emplo y these  \\nse ar ch strat egies or algor ithms t o r esol v e specific pr oblems and yield optimal  \\nr esul t s. These agent s ar e go al-or ient ed and utiliz e at omic r epr esent ation.\\nS e a r c h  A l g o r i t h m  T e r m i n o l o g i e s :\\nSe ar ch:  A syst ematic pr ocedur e t o sol v e a se ar ch pr oblem within a giv en  \\nse ar ch sp ace.\\nSe ar ch Sp ace:  R epr esent s a set of possible solutions within the syst em.\\nSt ar t St at e:  Initial st at e fr om which the agent initiat es the se ar ch.\\nGo al T est:  F unction assessing the cur r ent st at e t o det er mine if the go al  \\nst at e is achie v ed.\\nSe ar ch T r ee:  T r ee r epr esent ation of the se ar ch pr oblem with the r oot node  \\ncor r esponding t o the initial st at e.\\nA ctions:  Descr iptions of all a v ailable actions accessible t o the agent.\\nT r ansition Model:  Descr iption of the out come of e ach action, of t en  \\nr epr esent ed as a transition model.\\nP at h Cost:  F unction assigning a numer ic al cost t o e ach p ath.\\nSolution:  Sequence of actions le ading fr om the st ar t node t o the go al node.\\nOptimal Solution:  A solution with the lo w est cost among all possible  \\nsolutions.\\nP r o p e r t i e s  o f  S e a r c h  A l g o r i t h m s :\\nComplet eness:  Guarant ees t o r etur n a solution if one e xist s f or an y giv en  \\ninput.\\nOptimalit y:  The solution f ound is guarant eed t o be the best solution among  \\nall possible solutions.\\nTime Comple xit y:  Me asur e of time t ak en f or the algor ithm t o complet e it s  \\nt ask.\\nSp ace Comple xit y:  Maximum st orage sp ace r equir ed dur ing the se ar ch,  \\nr elativ e t o the comple xit y of the pr oblem.\\n\\nUntitled\\n10T y p e s  o f  S e a r c h  A l g o r i t h m s : U n i n f o r m e d / B l i n d  \\nS e a r c h :\\nU n i n f o r m e d / B l i n d  S e a r c h :\\nThe uninf or med se ar ch does not cont ain an y domain kno wledge such as  \\ncloseness, the loc ation of the go al. I t operat es in a brut e-f or ce wa y as it onl y  \\nincludes inf or mation about ho w t o tra v erse the tr ee and ho w t o identify le af and  \\ngo al nodes. Uninf or med se ar ch applies a wa y in which se ar ch tr ee is se ar ched  \\nwithout an y inf or mation about the se ar ch sp ace lik e initial st at e operat ors and  \\nt est f or the go al, so it is also c alled blind se ar ch.I t e xamines e ach node of the  \\ntr ee until it achie v es the go al node.\\nI t c an be divided int o f iv e main t ypes:\\nBr e ad th-first se ar ch\\nUnif or m cost se ar ch\\n\\nUntitled\\n11Depth-first se ar ch\\nI t erativ e deepening depth-first se ar ch\\nBidir ectional Se ar ch\\nI n f o r m e d  S e a r c h\\nInf or med se ar ch algor ithms use domain kno wledge. In an inf or med se ar ch,  \\npr oblem inf or mation is a v ailable which c an guide the se ar ch. Inf or med se ar ch  \\nstrat egies c an find a solution mor e ef ficientl y than an uninf or med se ar ch  \\nstrat egy . Inf or med se ar ch is also c alled a Heur istic se ar ch.\\nA heur istic is a wa y which might not alwa ys be guarant eed f or best solutions  \\nbut guarant eed t o find a good solution in r e asonable time.\\nInf or med se ar ch c an sol v e much comple x pr oblem which could not be sol v ed in\\nanother wa y .\\nAn e xample of inf or med se ar ch algor ithms is a tra v eling salesman pr oblem.\\n\\ue072\\ue094\\x00 Gr eed y Se ar ch\\n\\ue073\\ue094\\x00 A * Se ar ch\\nS t a t e - S p a c e  S e a r c h  i n  A r t i f i c i a l  I n t e l l i g e n c e :\\nOv er vie w:\\nIn ar tificial int elligence, st at e-sp ace se ar ch is emplo y ed t o loc at e a go al st at e  \\nwith the desir ed f e atur es b y e xplor ing all pot ential configurations or st at es of a  \\npr oblem inst ance until a suit able one is f ound.\\nConcept s:\\nSt at e:  A snapshot in time r epr esenting some aspect of the pr oblem.\\nSt at e Sp ace:  A collection of possible st at es r epr esenting the pr oblem's  \\ndomain. St at es ar e connect ed via operations/actions.\\nGr aph R epr esent ation:  St at es ar e nodes, and actions ar e ar cs connecting  \\nthem.\\nP at h:  A sequence of st at es and actions linking them in the st at e sp ace.\\nSolution:  A node in the graph r epr esenting all possible st at es of the  \\npr oblem.\"),\n",
              " Document(page_content=\"Untitled\\n6A pr oduction syst em in AI f acilit at es the cr e ation of AI-b ased comput er  \\npr ograms and aut omat es v ar ious t ypes of machines, including comput ers,  \\nmobile applic ations, and manuf actur ing t ools. I t defines the beha vior of  \\nmachines thr ough a set of rules, enabling them t o r espond t o their sur r oundings  \\nef f ectiv el y .\\nDef inition:\\nA pr oduction syst em in AI is a t ype of cognitiv e ar chit ectur e that  \\nspecifies actions b ased on pr edefined rules. These rules r epr esent the  \\ndeclarativ e kno wledge of a machine, guiding it s beha vior under  \\ndif f er ent conditions.\\nMan y e xper t syst ems and aut omation methodologies r el y on the rules  \\nof pr oduction syst ems t o operat e ef ficientl y .\\nBasic Ar chit ectur e:\\nThe rules in a pr oduction syst em consist of lef t -hand side \\ue081LHS\\ue082 and  \\nr ight -hand side \\ue081RHS\\ue082 equations.\\nThe LHS denot es specific conditions t o be applied, while the RHS  \\nr epr esent s the output r esul ting fr om the applied condition.\\nComponent s of a Pr oduction Syst em:\\nW or king Memor y:  St or es inf or mation about the cur r ent st at e of the  \\nsyst em, including r ele v ant dat a and f act s.\\nPr oduction Rules:  R epr esent declarativ e kno wledge and specify  \\nactions t o be t ak en b ased on the conditions pr esent in the w or king  \\nmemor y .\\nInf er ence Engine:  Ev aluat es the conditions specified in the pr oduction  \\nrules and select s applic able rules f or e x ecution.\\nContr ol Str at egy:  Go v er ns the or der in which rules ar e applied and  \\ne x ecut ed, ensur ing ef ficient pr oblem-sol ving.\\nConflict R esolution Mechanism:  R esol v es conflict s that ma y ar ise  \\nwhen mul tiple rules ar e applic able or conflicting, pr ior itizing rules b ased  \\non pr edefined cr it er ia.\\nKno wledge R epr esent ation:\\nKno wledge in AI encomp asses v ar ious component s used f or cr e ating  \\nint elligent machines.\\n\\nUntitled\\n7The r epr esent ation of kno wledge in a pr oduction syst em includes rules,  \\nf act s, and r elationships bet w een dif f er ent element s.\\nBy or ganizing kno wledge ef f ectiv el y , pr oduction syst ems enable  \\nmachines t o mak e inf or med decisions and r espond appr opr iat el y t o  \\nchanging cir cumst ances.\\nPr oduction syst ems in AI pla y a crucial r ole in enabling machines t o e xhibit  \\nint elligent beha vior and per f or m t asks aut onomousl y . The y pr o vide a structur ed  \\nframe w or k f or implementing e xper t syst ems and aut omation solutions,  \\ncontr ibuting t o ad v ancement s in v ar ious fields.\\nC h a r a c t e r i s t i c s  o f  P r o d u c t i o n  S y s t e m s  i n  A I :\\n\\ue072\\ue094\\x00 Simplicit y:\\nPr oduction rules in AI f ollo w an 'IF\\ue088 THEN' st at ement f or mat, ensur ing a  \\nstraight f or war d r epr esent ation of kno wledge and r e asoning.\\nEach rule in the pr oduction syst em has a unique structur e, simplifying  \\nthe underst anding and r e adabilit y of the rules.\\nThis simplicit y aids in sol ving r e al-w or ld pr oblems ef ficientl y b y  \\nr epr esenting kno wledge in the simplest possible manner .\\n\\ue073\\ue094\\x00 Modular it y:\\nPr oduction rules e xhibit modular it y , allo wing f or incr ement al  \\nimpr o v ement and adjustment.\\nRules ar e composed of discr et e p ar t s, of t en r epr esenting collections of  \\ninf or mation and f act s with minimal dependencies.\\n\\nUntitled\\n8Changes or additions t o individual component s do not signific antl y  \\nimp act the o v erall functionalit y of the pr oduction syst em.\\nModular it y enhances the per f or mance of the pr oduction syst em b y  \\nf acilit ating adjustment s t o rule p aramet ers without disrupting the entir e  \\nsyst em.\\n\\ue074\\ue094\\x00 Modif iabilit y:\\nThe modifiabilit y f e atur e enables e asy al t eration of pr oduction rules  \\nb ased on e v ol ving r equir ement s.\\nInitiall y , the pr oduction syst em is cr e at ed with a sk elet al structur e,  \\nwhich c an be r efined and modified as needed.\\nGather ing r equir ement s and making changes t o the raw structur e of the  \\npr oduction syst em allo ws f or it erativ e impr o v ement s o v er time.\\n\\ue075\\ue094\\x00 Kno wledge-Int ensiv e:\\nPr oduction syst ems ar e kno wledge-int ensiv e, cont aining inf or mation  \\nr epr esent ed in human-spok en language, t ypic all y English.\\nUnlik e traditional pr ogramming languages, pr oduction syst ems utiliz e  \\nplain English sent ences t o r epr esent kno wledge.\\nPr oduction rules enable the der iv ation of pr oductiv e conclusions fr om  \\nthese sent ences, le v eraging the w e al th of human kno wledge embedded  \\nin the syst em.\\nS e a r c h  A l g o r i t h m s  i n  A r t i f i c i a l  I n t e l l i g e n c e\\n\\nUntitled\\n9Pr oblem-sol ving agent s:\\nIn Ar tificial Int elligence, se ar ch t echniques ser v e as univ ersal pr oblem-sol ving  \\nmethods. R ational or pr oblem-sol ving agent s pr edominantl y emplo y these  \\nse ar ch strat egies or algor ithms t o r esol v e specific pr oblems and yield optimal  \\nr esul t s. These agent s ar e go al-or ient ed and utiliz e at omic r epr esent ation.\\nS e a r c h  A l g o r i t h m  T e r m i n o l o g i e s :\\nSe ar ch:  A syst ematic pr ocedur e t o sol v e a se ar ch pr oblem within a giv en  \\nse ar ch sp ace.\\nSe ar ch Sp ace:  R epr esent s a set of possible solutions within the syst em.\\nSt ar t St at e:  Initial st at e fr om which the agent initiat es the se ar ch.\\nGo al T est:  F unction assessing the cur r ent st at e t o det er mine if the go al  \\nst at e is achie v ed.\\nSe ar ch T r ee:  T r ee r epr esent ation of the se ar ch pr oblem with the r oot node  \\ncor r esponding t o the initial st at e.\\nA ctions:  Descr iptions of all a v ailable actions accessible t o the agent.\\nT r ansition Model:  Descr iption of the out come of e ach action, of t en  \\nr epr esent ed as a transition model.\\nP at h Cost:  F unction assigning a numer ic al cost t o e ach p ath.\\nSolution:  Sequence of actions le ading fr om the st ar t node t o the go al node.\\nOptimal Solution:  A solution with the lo w est cost among all possible  \\nsolutions.\\nP r o p e r t i e s  o f  S e a r c h  A l g o r i t h m s :\\nComplet eness:  Guarant ees t o r etur n a solution if one e xist s f or an y giv en  \\ninput.\\nOptimalit y:  The solution f ound is guarant eed t o be the best solution among  \\nall possible solutions.\\nTime Comple xit y:  Me asur e of time t ak en f or the algor ithm t o complet e it s  \\nt ask.\\nSp ace Comple xit y:  Maximum st orage sp ace r equir ed dur ing the se ar ch,  \\nr elativ e t o the comple xit y of the pr oblem.\\n\\nUntitled\\n10T y p e s  o f  S e a r c h  A l g o r i t h m s : U n i n f o r m e d / B l i n d  \\nS e a r c h :\\nU n i n f o r m e d / B l i n d  S e a r c h :\\nThe uninf or med se ar ch does not cont ain an y domain kno wledge such as  \\ncloseness, the loc ation of the go al. I t operat es in a brut e-f or ce wa y as it onl y  \\nincludes inf or mation about ho w t o tra v erse the tr ee and ho w t o identify le af and  \\ngo al nodes. Uninf or med se ar ch applies a wa y in which se ar ch tr ee is se ar ched  \\nwithout an y inf or mation about the se ar ch sp ace lik e initial st at e operat ors and  \\nt est f or the go al, so it is also c alled blind se ar ch.I t e xamines e ach node of the  \\ntr ee until it achie v es the go al node.\\nI t c an be divided int o f iv e main t ypes:\\nBr e ad th-first se ar ch\\nUnif or m cost se ar ch\\n\\nUntitled\\n11Depth-first se ar ch\\nI t erativ e deepening depth-first se ar ch\\nBidir ectional Se ar ch\\nI n f o r m e d  S e a r c h\\nInf or med se ar ch algor ithms use domain kno wledge. In an inf or med se ar ch,  \\npr oblem inf or mation is a v ailable which c an guide the se ar ch. Inf or med se ar ch  \\nstrat egies c an find a solution mor e ef ficientl y than an uninf or med se ar ch  \\nstrat egy . Inf or med se ar ch is also c alled a Heur istic se ar ch.\\nA heur istic is a wa y which might not alwa ys be guarant eed f or best solutions  \\nbut guarant eed t o find a good solution in r e asonable time.\\nInf or med se ar ch c an sol v e much comple x pr oblem which could not be sol v ed in\\nanother wa y .\\nAn e xample of inf or med se ar ch algor ithms is a tra v eling salesman pr oblem.\\n\\ue072\\ue094\\x00 Gr eed y Se ar ch\\n\\ue073\\ue094\\x00 A * Se ar ch\\nS t a t e - S p a c e  S e a r c h  i n  A r t i f i c i a l  I n t e l l i g e n c e :\\nOv er vie w:\\nIn ar tificial int elligence, st at e-sp ace se ar ch is emplo y ed t o loc at e a go al st at e  \\nwith the desir ed f e atur es b y e xplor ing all pot ential configurations or st at es of a  \\npr oblem inst ance until a suit able one is f ound.\\nConcept s:\\nSt at e:  A snapshot in time r epr esenting some aspect of the pr oblem.\\nSt at e Sp ace:  A collection of possible st at es r epr esenting the pr oblem's  \\ndomain. St at es ar e connect ed via operations/actions.\\nGr aph R epr esent ation:  St at es ar e nodes, and actions ar e ar cs connecting  \\nthem.\\nP at h:  A sequence of st at es and actions linking them in the st at e sp ace.\\nSolution:  A node in the graph r epr esenting all possible st at es of the  \\npr oblem.\"),\n",
              " Document(page_content=\"Untitled\\n17Laur e at e Her ber t A. Simon initiall y intr oduced the concept of heur istics,  \\nf ocusing on pr oblem-sol ving r ese ar ch.\\nPur pose:\\nHeur istics ar e crucial in situations r equir ing shor t -t er m solutions, especiall y in  \\ncomple x scenar ios with limit ed r esour ces and time. These t echniques enable  \\nquick decision-making b y le v eraging ment al shor t cut s and appr o ximat ed  \\nc alculations b ased on p ast e xper iences.\\nCommon Heur istic Met hods:\\n\\ue072\\ue094\\x00 T r ial and Er r or:  Exper imenting with dif f er ent appr o aches until a satisf act or y  \\nsolution is f ound.\\n\\ue073\\ue094\\x00 Guessw or k:  Intuitiv el y estimating solutions b ased on pr ior kno wledge and  \\ne xper ience.\\n\\ue074\\ue094\\x00 Pr ocess of Elimination:  Nar r o wing do wn options b y eliminating unlik el y  \\nchoices.\\n\\ue075\\ue094\\x00 Hist or ic al Dat a Anal ysis:  Drawing insight s fr om p ast dat a t o inf or m  \\ndecision-making.\\nClassif ic ation of Heur istic T echniques:\\n\\ue072\\ue094\\x00 Dir ect Heur istic Se ar ch T echniques in AI\\ue092\\nUtiliz e methods lik e Blind Se ar ch and Uninf or med Se ar ch, of t en  \\nr equir ing e x t ensiv e memor y and time.\\nExamples include Br e ad th-First Se ar ch \\ue081BFS\\ue082 and Depth-First Se ar ch  \\n\\ue081DFS\\ue082.\\n\\ue073\\ue094\\x00 W e ak Heur istic Se ar ch T echniques in AI\\ue092\\nEmplo y Inf or med Se ar ch and Heur istic Se ar ch strat egies, le v eraging  \\ndomain-specific inf or mation.\\nExamples include Best First Se ar ch \\ue081BFS\\ue082 and A * .\\nEx amples of Heur istic T echniques:\\n\\ue072\\ue094\\x00 Bidir ectional Se ar ch:  Simul t aneousl y e xplor es the se ar ch sp ace fr om both  \\nthe initial and go al st at es, meeting in the middle.\\n\\ue073\\ue094\\x00 A Sear ch: Combines unif or m-cost se ar ch with heur istic e v aluation t o guide  \\nthe se ar ch t o war ds the go al ef ficientl y .\\n\\nUntitled\\n18\\ue074\\ue094\\x00 Simulat ed Anne aling:  Mimics the anne aling pr ocess in met allur gy t o se ar ch  \\nf or optimal solutions b y accepting uphill mo v es pr ob abilistic all y .\\n\\ue075\\ue094\\x00 Hill Climbing:  I t erativ el y impr o v es solutions b y making incr ement al changes  \\nt o r e ach higher -ele v ation st at es.\\n\\ue076\\ue094\\x00 Best First Se ar ch:  Exp ands nodes b ased on a heur istic e v aluation function,  \\npr ior itizing nodes closer t o the go al.\\n\\ue077\\ue094\\x00 Be am Se ar ch:  K eeps a limit ed number of most pr omising p aths at e ach  \\nit eration, ef ficientl y e xplor ing the se ar ch sp ace.\\nHeur istic t echniques pla y a piv ot al r ole in AI pr oblem-sol ving, of f er ing ef ficient  \\nappr o aches t o finding solutions in comple x and r esour ce-constrained  \\nen vir onment s. By le v eraging p ast e xper iences and domain-specific kno wledge,  \\nheur istics enable AI syst ems t o mak e inf or med decisions quickl y and  \\nef f ectiv el y .\\nH i l l  C l i m b i n g  A l g o r i t h m :\\nHill climbing is a v ar iant of generat e-and-t est wher e f eedb ack fr om the t est  \\npr ocedur e is utiliz ed t o assist the generat or in deciding which dir ection t o mo v e\\n\\nUntitled\\n19in the se ar ch sp ace. I t is of t en emplo y ed when a good heur istic function is  \\na v ailable f or e v aluating st at es, but no other useful kno wledge is pr esent.\\nAlgor it hm:\\n\\ue072\\ue094\\x00 Ev aluat e the initial st at e. If it is the go al st at e, r etur n it and t er minat e.  \\nOther wise, pr oceed with the initial st at e as the cur r ent st at e.\\n\\ue073\\ue094\\x00 R epe at until a solution is f ound or no ne w operat ors c an be applied in the  \\ncur r ent st at e:\\na. Select an operat or that has not y et been applied t o the cur r ent st at e and  \\nappl y it t o generat e a ne w st at e.\\nb. Ev aluat e the ne w st at e:\\nIf it is the go al st at e, r etur n it and t er minat e.\\nIf it is not a go al st at e but bet t er than the cur r ent st at e, mak e it the  \\ncur r ent st at e.\\nIf it is not bet t er than the cur r ent st at e, continue the loop.\\nDr awb acks of Hill Climbing:\\n\\ue072\\ue094\\x00 Loc al Maxima:  A loc al maximum is a st at e bet t er than all it s neighbors but  \\nnot bet t er than some st at es fur ther awa y .\\n\\ue073\\ue094\\x00 Plat e au:  A plat e au is a flat ar e a of the se ar ch sp ace wher e a whole set of  \\nneighbor ing st at es has the same v alue.\\n\\ue074\\ue094\\x00 Ridge:  A r idge is a special kind of loc al maximum, r epr esenting an ar e a of  \\nthe se ar ch sp ace higher than sur r ounding ar e as but with a slope.\\nHandling Dr awb acks:\\nBacktrack t o some e ar lier node and tr y a dif f er ent dir ection.\\nMak e a signific ant jump t o e xplor e a ne w section.\\nMo v e in mul tiple dir ections simul t aneousl y .\\nSolutions:\\n\\ue072\\ue094\\x00 Loc al Maxima:  Explor e dif f er ent dir ections fr om the cur r ent st at e or  \\nb acktrack t o a pr e vious node and tr y al t er nativ e p aths.\\n\\ue073\\ue094\\x00 Plat e au:  Intr oduce randomness or per tur b ation t o e xplor e ne w ar e as or  \\nr est ar t the se ar ch fr om a dif f er ent point.\\n\\nUntitled\\n20Hill climbing, despit e it s drawb acks, r emains a widel y used heur istic se ar ch  \\nalgor ithm due t o it s simplicit y and ef ficienc y in finding loc al optima. Ho w e v er ,  \\nadditional t echniques ar e of t en r equir ed t o handle it s limit ations ef f ectiv el y .\\nB e s t  F i r s t  S e a r c h  ( B F S )  A l g o r i t h m :\\nBest First Se ar ch \\ue081BFS\\ue082 is an algor ithm that alwa ys chooses the p ath appe ar ing  \\nt o be the best at the cur r ent moment. I t combines the f e atur es of both depth-\\nfirst se ar ch and br e ad th-first se ar ch algor ithms, allo wing the algor ithm t o t ak e  \\nad v ant age of their r espectiv e str engths. BFS utiliz es a heur istic function t o  \\nguide the se ar ch, selecting the most pr omising nodes at e ach st ep.\\nAlgor it hm:\\n\\ue072\\ue094\\x00 Place t he st ar ting node int o t he OPEN list.\\n\\ue073\\ue094\\x00 If t he OPEN list is empt y ,  st op and r etur n f ailur e.\\n\\ue074\\ue094\\x00 R emo v e t he node \\\\( n \\\\) fr om t he OPEN list wit h t he lo w est v alue of \\\\( h( n)\\\\)  \\n( heur istic function),  and place it in t he CL OSED list.\\n\\ue075\\ue094\\x00 Exp and t he node \\\\( n \\\\) and gener at e it s successor nodes.\\n\\ue076\\ue094\\x00 Check e ach successor node t o det er mine if it is a go al node.  If an y  \\nsuccessor node is a go al node,  r etur n success and st op t he se ar ch.  \\nOt her wise,  continue t o t he ne x t st ep.\\n\\ue077\\ue094\\x00 F or e ach successor node,  check t he e v aluation function \\\\(f( n)\\\\) and  \\ndet er mine if t he node has alr e ad y been visit ed (in eit her t he OPEN or\\n\\nUntitled\\n21CL OSED list).  If t he node is not in eit her list,  add it t o t he OPEN list.\\n\\ue078\\ue094\\x00 R etur n t o St ep 2 and r epe at t he pr ocess until a solution is f ound or t he  \\nse ar ch sp ace is e xhaust ed.\\nExplanation:\\nThe algor ithm st ar t s with the initial node and e v aluat es it s heur istic v alue.\\nI t then pr oceeds t o e xp and the node with the lo w est heur istic v alue (the  \\nmost pr omising node ) and generat es it s successor nodes.\\nIf a successor node is a go al node, the algor ithm t er minat es and r etur ns  \\nsuccess.\\nIf not, the algor ithm continues e xp anding nodes and adding them t o the  \\nOPEN list b ased on their heur istic v alues.\\nThe se ar ch continues until a solution is f ound or the se ar ch sp ace is full y  \\ne xplor ed.\\nBest First Se ar ch is p ar ticular l y useful in situations wher e ther e is limit ed  \\nmemor y or time, as it f ocuses on e xplor ing the most pr omising p aths first.  \\nHo w e v er , it s ef f ectiv eness he a vil y r elies on the accurac y of the heur istic  \\nfunction used t o e v aluat e nodes.\\n\\nUntitled\\n22P r o b l e m  R e d u c t i o n :\\nPr oblem r eduction is an algor ithm design t echnique aimed at simplifying  \\ncomple x pr oblems b y br e aking them do wn int o simpler ones. This method  \\nin v ol v es transf or ming the or iginal pr oblem int o a mor e manage able f or m,  \\nsol ving the simplified pr oblem, and then using the solution t o der iv e the  \\nsolution f or the or iginal pr oblem.\\nK e y P oint s:\\n\\ue072\\ue094\\x00 Comple x Pr oblem Simplif ic ation:  Pr oblem r eduction simplifies comple x  \\npr oblems b y br e aking them do wn int o smaller , mor e manage able  \\nsubpr oblems.\\n\\ue073\\ue094\\x00 Sol ving Simplif ied Pr oblems:  Once the pr oblem is r educed t o a simpler  \\nf or m, it is sol v ed using appr opr iat e t echniques or algor ithms.\\n\\ue074\\ue094\\x00 T r ansf or mation of Solutions:  The solution obt ained f or the simplified  \\npr oblem is then transf or med or adapt ed t o der iv e the solution f or the  \\nor iginal pr oblem.\\nBenef it s:\\nSimplif ic ation:  Helps in br e aking do wn comple x pr oblems int o smaller ,  \\nmor e underst andable component s.\\nEf f icienc y Impr o v ement:  R educes the time and sp ace comple xit y of  \\nalgor ithms b y f ocusing on sol ving simpler pr oblems.\\nPr oblem r eduction is a po w er ful t echnique widel y used in algor ithm design t o  \\nt ackle comple x pr oblems ef f ectiv el y . I t enhances pr oblem-sol ving ef ficienc y b y  \\nbr e aking do wn daunting t asks int o mor e manage able st eps.\\nC o n s t r a i n t  S a t i s f a c t i o n :\\nConstraint satisf action is a se ar ch pr ocedur e utiliz ed in ar tificial int elligence,  \\noperating within a sp ace of constraint set s. I t aims t o find a solution that  \\nsatisfies a giv en set of constraint s, t ypic all y der iv ed fr om the pr oblem  \\ndescr iption. Her e 's a compr ehensiv e e xplanation:\\n\\ue072\\ue094\\x00 Initial St at e and Go al St at e:\")]"
            ]
          },
          "metadata": {},
          "execution_count": 94
        }
      ]
    },
    {
      "cell_type": "code",
      "source": [
        "template = \"\"\"Use the following pieces of context to answer the question at the end. If you don't know the answer, just say that you don't know, don't try to make up an answer. Keep the answer as concise as possible. Always say \"thanks for asking!\" at the end of the answer.\n",
        "{context}\n",
        "Question: {question}\n",
        "Helpful Answer:\"\"\"\n",
        "QA_CHAIN_PROMPT = PromptTemplate.from_template(template)# Run chain\n",
        "qa_chain = RetrievalQA.from_chain_type(\n",
        "    model,\n",
        "    retriever=vector_index,\n",
        "    return_source_documents=True,\n",
        "    chain_type_kwargs={\"prompt\": QA_CHAIN_PROMPT}\n",
        ")\n"
      ],
      "metadata": {
        "id": "Zt4gk_DqjhJa"
      },
      "execution_count": 95,
      "outputs": []
    },
    {
      "cell_type": "code",
      "source": [
        "question = \"Describe NLP?\"\n",
        "result = qa_chain({\"query\": question})\n",
        "result[\"result\"]"
      ],
      "metadata": {
        "colab": {
          "base_uri": "https://localhost:8080/",
          "height": 53
        },
        "id": "UGSb_xJ4jnRB",
        "outputId": "9e83e3a7-3b68-4565-9fbb-545dac80a69b"
      },
      "execution_count": 99,
      "outputs": [
        {
          "output_type": "execute_result",
          "data": {
            "text/plain": [
              "'Natural Language Processing (NLP) is a field of AI that focuses on enabling computers to understand, interpret, and generate human language. NLP techniques include text classification, sentiment analysis, named entity recognition, and machine translation.'"
            ],
            "application/vnd.google.colaboratory.intrinsic+json": {
              "type": "string"
            }
          },
          "metadata": {},
          "execution_count": 99
        }
      ]
    },
    {
      "cell_type": "code",
      "source": [
        "Markdown(result[\"result\"])"
      ],
      "metadata": {
        "colab": {
          "base_uri": "https://localhost:8080/",
          "height": 64
        },
        "id": "pKcIIgbOkJal",
        "outputId": "da576ddb-2d5e-4652-ea10-b28b81e6806f"
      },
      "execution_count": 100,
      "outputs": [
        {
          "output_type": "execute_result",
          "data": {
            "text/plain": [
              "<IPython.core.display.Markdown object>"
            ],
            "text/markdown": "Natural Language Processing (NLP) is a field of AI that focuses on enabling computers to understand, interpret, and generate human language. NLP techniques include text classification, sentiment analysis, named entity recognition, and machine translation."
          },
          "metadata": {},
          "execution_count": 100
        }
      ]
    },
    {
      "cell_type": "code",
      "source": [],
      "metadata": {
        "id": "Yb-FHHVpkmlj"
      },
      "execution_count": null,
      "outputs": []
    }
  ]
}